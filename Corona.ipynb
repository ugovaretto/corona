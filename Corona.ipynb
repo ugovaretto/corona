{
 "cells": [
  {
   "cell_type": "code",
   "execution_count": 115,
   "metadata": {},
   "outputs": [],
   "source": [
    "import pandas as pd\n",
    "import matplotlib.pyplot as plt\n",
    "import warnings\n",
    "warnings.filterwarnings(\"ignore\", message=\"numpy.dtype size changed\")\n",
    "warnings.filterwarnings(\"ignore\", message=\"numpy.ufunc size changed\")"
   ]
  },
  {
   "cell_type": "code",
   "execution_count": 116,
   "metadata": {},
   "outputs": [],
   "source": [
    "cases = pd.read_csv(\"corona/corona.csv\")"
   ]
  },
  {
   "cell_type": "code",
   "execution_count": 136,
   "metadata": {},
   "outputs": [],
   "source": [
    "world_population = pd.read_csv(\"corona/world_population.csv\")"
   ]
  },
  {
   "cell_type": "code",
   "execution_count": 138,
   "metadata": {},
   "outputs": [
    {
     "name": "stdout",
     "output_type": "stream",
     "text": [
      "Index(['Country Name', 'Country Code', 'Indicator Name', 'Indicator Code',\n",
      "       '1960', '1961', '1962', '1963', '1964', '1965', '1966', '1967', '1968',\n",
      "       '1969', '1970', '1971', '1972', '1973', '1974', '1975', '1976', '1977',\n",
      "       '1978', '1979', '1980', '1981', '1982', '1983', '1984', '1985', '1986',\n",
      "       '1987', '1988', '1989', '1990', '1991', '1992', '1993', '1994', '1995',\n",
      "       '1996', '1997', '1998', '1999', '2000', '2001', '2002', '2003', '2004',\n",
      "       '2005', '2006', '2007', '2008', '2009', '2010', '2011', '2012', '2013',\n",
      "       '2014', '2015', '2016', '2017', '2018', '2019', 'Unnamed: 64'],\n",
      "      dtype='object')\n"
     ]
    },
    {
     "data": {
      "text/plain": [
       "Country Name       object\n",
       "Country Code       object\n",
       "Indicator Name     object\n",
       "Indicator Code     object\n",
       "1960              float64\n",
       "                   ...   \n",
       "2016              float64\n",
       "2017              float64\n",
       "2018              float64\n",
       "2019              float64\n",
       "Unnamed: 64       float64\n",
       "Length: 65, dtype: object"
      ]
     },
     "execution_count": 138,
     "metadata": {},
     "output_type": "execute_result"
    }
   ],
   "source": [
    "print(world_population.columns)\n",
    "world_population.dtypes"
   ]
  },
  {
   "cell_type": "code",
   "execution_count": 139,
   "metadata": {},
   "outputs": [
    {
     "name": "stdout",
     "output_type": "stream",
     "text": [
      "Index(['Country', 'Cases', 'Deaths', 'Continent'], dtype='object')\n",
      "Country      object\n",
      "Cases         int64\n",
      "Deaths        int64\n",
      "Continent    object\n",
      "dtype: object\n"
     ]
    }
   ],
   "source": [
    "print(cases.columns)\n",
    "print(cases.dtypes)"
   ]
  },
  {
   "cell_type": "code",
   "execution_count": 140,
   "metadata": {},
   "outputs": [],
   "source": [
    "world_population.loc[world_population[\"Country Code\"] == \"RUS\", \\\n",
    "                     \"Country Name\"]=\"Russia\""
   ]
  },
  {
   "cell_type": "code",
   "execution_count": 141,
   "metadata": {},
   "outputs": [],
   "source": [
    "world_population.loc[world_population[\"Country Code\"] == \"KOR\", \\\n",
    "                     \"Country Name\"]=\"South Korea\""
   ]
  },
  {
   "cell_type": "code",
   "execution_count": 142,
   "metadata": {},
   "outputs": [],
   "source": [
    "world_population.loc[world_population[\"Country Code\"] == \"HKG\", \\\n",
    "                     \"Country Name\"]=\"Hong Kong\""
   ]
  },
  {
   "cell_type": "code",
   "execution_count": 143,
   "metadata": {},
   "outputs": [],
   "source": [
    "m = pd.merge(cases, world_population[[\"Country Name\",\"2018\"]], how='left', left_on=['Country'], \\\n",
    "             right_on=['Country Name'])"
   ]
  },
  {
   "cell_type": "code",
   "execution_count": 144,
   "metadata": {},
   "outputs": [],
   "source": [
    "m = m.rename(columns={\"2018\": \"Population\"})"
   ]
  },
  {
   "cell_type": "code",
   "execution_count": 145,
   "metadata": {},
   "outputs": [
    {
     "data": {
      "text/html": [
       "<div>\n",
       "<style scoped>\n",
       "    .dataframe tbody tr th:only-of-type {\n",
       "        vertical-align: middle;\n",
       "    }\n",
       "\n",
       "    .dataframe tbody tr th {\n",
       "        vertical-align: top;\n",
       "    }\n",
       "\n",
       "    .dataframe thead th {\n",
       "        text-align: right;\n",
       "    }\n",
       "</style>\n",
       "<table border=\"1\" class=\"dataframe\">\n",
       "  <thead>\n",
       "    <tr style=\"text-align: right;\">\n",
       "      <th></th>\n",
       "      <th>Country</th>\n",
       "      <th>Cases</th>\n",
       "      <th>Deaths</th>\n",
       "      <th>Continent</th>\n",
       "      <th>Country Name</th>\n",
       "      <th>Population</th>\n",
       "    </tr>\n",
       "  </thead>\n",
       "  <tbody>\n",
       "    <tr>\n",
       "      <td>0</td>\n",
       "      <td>Japan</td>\n",
       "      <td>45</td>\n",
       "      <td>0</td>\n",
       "      <td>Asia</td>\n",
       "      <td>Japan</td>\n",
       "      <td>1.265291e+08</td>\n",
       "    </tr>\n",
       "    <tr>\n",
       "      <td>1</td>\n",
       "      <td>Singapore</td>\n",
       "      <td>28</td>\n",
       "      <td>0</td>\n",
       "      <td>Asia</td>\n",
       "      <td>Singapore</td>\n",
       "      <td>5.638676e+06</td>\n",
       "    </tr>\n",
       "    <tr>\n",
       "      <td>2</td>\n",
       "      <td>Thailand</td>\n",
       "      <td>25</td>\n",
       "      <td>0</td>\n",
       "      <td>Asia</td>\n",
       "      <td>Thailand</td>\n",
       "      <td>6.942852e+07</td>\n",
       "    </tr>\n",
       "    <tr>\n",
       "      <td>3</td>\n",
       "      <td>South Korea</td>\n",
       "      <td>23</td>\n",
       "      <td>0</td>\n",
       "      <td>Asia</td>\n",
       "      <td>South Korea</td>\n",
       "      <td>5.163526e+07</td>\n",
       "    </tr>\n",
       "    <tr>\n",
       "      <td>4</td>\n",
       "      <td>Hong Kong</td>\n",
       "      <td>22</td>\n",
       "      <td>1</td>\n",
       "      <td>Asia</td>\n",
       "      <td>Hong Kong</td>\n",
       "      <td>7.451000e+06</td>\n",
       "    </tr>\n",
       "    <tr>\n",
       "      <td>5</td>\n",
       "      <td>Australia</td>\n",
       "      <td>15</td>\n",
       "      <td>0</td>\n",
       "      <td>Australia/Oceania</td>\n",
       "      <td>Australia</td>\n",
       "      <td>2.499237e+07</td>\n",
       "    </tr>\n",
       "    <tr>\n",
       "      <td>6</td>\n",
       "      <td>Malaysia</td>\n",
       "      <td>14</td>\n",
       "      <td>0</td>\n",
       "      <td>Asia</td>\n",
       "      <td>Malaysia</td>\n",
       "      <td>3.152858e+07</td>\n",
       "    </tr>\n",
       "    <tr>\n",
       "      <td>7</td>\n",
       "      <td>Taiwan</td>\n",
       "      <td>13</td>\n",
       "      <td>0</td>\n",
       "      <td>Asia</td>\n",
       "      <td>Taiwan</td>\n",
       "      <td>2.378045e+07</td>\n",
       "    </tr>\n",
       "    <tr>\n",
       "      <td>8</td>\n",
       "      <td>United States</td>\n",
       "      <td>12</td>\n",
       "      <td>0</td>\n",
       "      <td>North America</td>\n",
       "      <td>United States</td>\n",
       "      <td>3.271674e+08</td>\n",
       "    </tr>\n",
       "    <tr>\n",
       "      <td>9</td>\n",
       "      <td>Germany</td>\n",
       "      <td>12</td>\n",
       "      <td>0</td>\n",
       "      <td>Europe</td>\n",
       "      <td>Germany</td>\n",
       "      <td>8.292792e+07</td>\n",
       "    </tr>\n",
       "    <tr>\n",
       "      <td>10</td>\n",
       "      <td>Vietnam</td>\n",
       "      <td>10</td>\n",
       "      <td>0</td>\n",
       "      <td>Asia</td>\n",
       "      <td>Vietnam</td>\n",
       "      <td>9.554040e+07</td>\n",
       "    </tr>\n",
       "    <tr>\n",
       "      <td>11</td>\n",
       "      <td>France</td>\n",
       "      <td>6</td>\n",
       "      <td>0</td>\n",
       "      <td>Europe</td>\n",
       "      <td>France</td>\n",
       "      <td>6.698724e+07</td>\n",
       "    </tr>\n",
       "    <tr>\n",
       "      <td>12</td>\n",
       "      <td>Canada</td>\n",
       "      <td>5</td>\n",
       "      <td>0</td>\n",
       "      <td>North America</td>\n",
       "      <td>Canada</td>\n",
       "      <td>3.705886e+07</td>\n",
       "    </tr>\n",
       "    <tr>\n",
       "      <td>13</td>\n",
       "      <td>United Arab Emirates</td>\n",
       "      <td>5</td>\n",
       "      <td>0</td>\n",
       "      <td>Asia</td>\n",
       "      <td>United Arab Emirates</td>\n",
       "      <td>9.630959e+06</td>\n",
       "    </tr>\n",
       "    <tr>\n",
       "      <td>14</td>\n",
       "      <td>Philippines</td>\n",
       "      <td>3</td>\n",
       "      <td>1</td>\n",
       "      <td>Asia</td>\n",
       "      <td>Philippines</td>\n",
       "      <td>1.066519e+08</td>\n",
       "    </tr>\n",
       "    <tr>\n",
       "      <td>15</td>\n",
       "      <td>India</td>\n",
       "      <td>3</td>\n",
       "      <td>0</td>\n",
       "      <td>Asia</td>\n",
       "      <td>India</td>\n",
       "      <td>1.352617e+09</td>\n",
       "    </tr>\n",
       "    <tr>\n",
       "      <td>16</td>\n",
       "      <td>United Kingdom</td>\n",
       "      <td>2</td>\n",
       "      <td>0</td>\n",
       "      <td>Europe</td>\n",
       "      <td>United Kingdom</td>\n",
       "      <td>6.648899e+07</td>\n",
       "    </tr>\n",
       "    <tr>\n",
       "      <td>17</td>\n",
       "      <td>Russia</td>\n",
       "      <td>2</td>\n",
       "      <td>0</td>\n",
       "      <td>Europe</td>\n",
       "      <td>Russia</td>\n",
       "      <td>1.444780e+08</td>\n",
       "    </tr>\n",
       "    <tr>\n",
       "      <td>18</td>\n",
       "      <td>Italy</td>\n",
       "      <td>2</td>\n",
       "      <td>0</td>\n",
       "      <td>Europe</td>\n",
       "      <td>Italy</td>\n",
       "      <td>6.043128e+07</td>\n",
       "    </tr>\n",
       "  </tbody>\n",
       "</table>\n",
       "</div>"
      ],
      "text/plain": [
       "                 Country  Cases  Deaths          Continent  \\\n",
       "0                  Japan     45       0               Asia   \n",
       "1              Singapore     28       0               Asia   \n",
       "2               Thailand     25       0               Asia   \n",
       "3            South Korea     23       0               Asia   \n",
       "4              Hong Kong     22       1               Asia   \n",
       "5              Australia     15       0  Australia/Oceania   \n",
       "6               Malaysia     14       0               Asia   \n",
       "7                 Taiwan     13       0               Asia   \n",
       "8          United States     12       0      North America   \n",
       "9                Germany     12       0             Europe   \n",
       "10               Vietnam     10       0               Asia   \n",
       "11                France      6       0             Europe   \n",
       "12                Canada      5       0      North America   \n",
       "13  United Arab Emirates      5       0               Asia   \n",
       "14           Philippines      3       1               Asia   \n",
       "15                 India      3       0               Asia   \n",
       "16        United Kingdom      2       0             Europe   \n",
       "17                Russia      2       0             Europe   \n",
       "18                 Italy      2       0             Europe   \n",
       "\n",
       "            Country Name    Population  \n",
       "0                  Japan  1.265291e+08  \n",
       "1              Singapore  5.638676e+06  \n",
       "2               Thailand  6.942852e+07  \n",
       "3            South Korea  5.163526e+07  \n",
       "4              Hong Kong  7.451000e+06  \n",
       "5              Australia  2.499237e+07  \n",
       "6               Malaysia  3.152858e+07  \n",
       "7                 Taiwan  2.378045e+07  \n",
       "8          United States  3.271674e+08  \n",
       "9                Germany  8.292792e+07  \n",
       "10               Vietnam  9.554040e+07  \n",
       "11                France  6.698724e+07  \n",
       "12                Canada  3.705886e+07  \n",
       "13  United Arab Emirates  9.630959e+06  \n",
       "14           Philippines  1.066519e+08  \n",
       "15                 India  1.352617e+09  \n",
       "16        United Kingdom  6.648899e+07  \n",
       "17                Russia  1.444780e+08  \n",
       "18                 Italy  6.043128e+07  "
      ]
     },
     "execution_count": 145,
     "metadata": {},
     "output_type": "execute_result"
    }
   ],
   "source": [
    "m"
   ]
  },
  {
   "cell_type": "code",
   "execution_count": 146,
   "metadata": {},
   "outputs": [],
   "source": [
    "per_capita = pd.concat([m[\"Country\"], m[\"Cases\"]/m[\"Population\"]], \\\n",
    "                       axis=1, keys=[\"Country\", \"Cases per capita\"])"
   ]
  },
  {
   "cell_type": "code",
   "execution_count": 147,
   "metadata": {},
   "outputs": [],
   "source": [
    "pcs = per_capita.sort_values(\"Cases per capita\", ascending=True)"
   ]
  },
  {
   "cell_type": "code",
   "execution_count": 148,
   "metadata": {},
   "outputs": [
    {
     "data": {
      "text/plain": [
       "<BarContainer object of 19 artists>"
      ]
     },
     "execution_count": 148,
     "metadata": {},
     "output_type": "execute_result"
    },
    {
     "data": {
      "image/png": "[encoded data removed]",
      "text/plain": [
       "<Figure size 720x720 with 1 Axes>"
      ]
     },
     "metadata": {
      "needs_background": "light"
     },
     "output_type": "display_data"
    }
   ],
   "source": [
    "plt.figure(figsize=(10,10))\n",
    "plt.title(\"Per-capita incidence of infection\")\n",
    "plt.barh(pcs[\"Country\"], pcs[\"Cases per capita\"])"
   ]
  },
  {
   "cell_type": "code",
   "execution_count": null,
   "metadata": {},
   "outputs": [],
   "source": []
  }
 ],
 "metadata": {
  "kernelspec": {
   "display_name": "Python 3",
   "language": "python",
   "name": "python3"
  },
  "language_info": {
   "codemirror_mode": {
    "name": "ipython",
    "version": 3
   },
   "file_extension": ".py",
   "mimetype": "text/x-python",
   "name": "python",
   "nbconvert_exporter": "python",
   "pygments_lexer": "ipython3",
   "version": "3.7.4"
  }
 },
 "nbformat": 4,
 "nbformat_minor": 2
}
