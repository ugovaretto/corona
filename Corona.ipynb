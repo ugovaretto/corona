{
 "cells": [
  {
   "cell_type": "markdown",
   "metadata": {},
   "source": [
    "### Per-country incidence of infection"
   ]
  },
  {
   "cell_type": "code",
   "execution_count": 182,
   "metadata": {},
   "outputs": [],
   "source": [
    "import pandas as pd\n",
    "import matplotlib.pyplot as plt\n",
    "import seaborn as sns\n",
    "sns.set()\n",
    "import warnings\n",
    "warnings.filterwarnings(\"ignore\", message=\"numpy.dtype size changed\")\n",
    "warnings.filterwarnings(\"ignore\", message=\"numpy.ufunc size changed\")"
   ]
  },
  {
   "cell_type": "code",
   "execution_count": 183,
   "metadata": {},
   "outputs": [],
   "source": [
    "cases = pd.read_csv(\"corona.csv\")"
   ]
  },
  {
   "cell_type": "code",
   "execution_count": 184,
   "metadata": {},
   "outputs": [],
   "source": [
    "world_population = pd.read_csv(\"world_population.csv\")"
   ]
  },
  {
   "cell_type": "code",
   "execution_count": 185,
   "metadata": {},
   "outputs": [
    {
     "name": "stdout",
     "output_type": "stream",
     "text": [
      "Index(['Country Name', 'Country Code', 'Indicator Name', 'Indicator Code',\n",
      "       '1960', '1961', '1962', '1963', '1964', '1965', '1966', '1967', '1968',\n",
      "       '1969', '1970', '1971', '1972', '1973', '1974', '1975', '1976', '1977',\n",
      "       '1978', '1979', '1980', '1981', '1982', '1983', '1984', '1985', '1986',\n",
      "       '1987', '1988', '1989', '1990', '1991', '1992', '1993', '1994', '1995',\n",
      "       '1996', '1997', '1998', '1999', '2000', '2001', '2002', '2003', '2004',\n",
      "       '2005', '2006', '2007', '2008', '2009', '2010', '2011', '2012', '2013',\n",
      "       '2014', '2015', '2016', '2017', '2018', '2019', 'Unnamed: 64'],\n",
      "      dtype='object')\n"
     ]
    },
    {
     "data": {
      "text/plain": [
       "Country Name       object\n",
       "Country Code       object\n",
       "Indicator Name     object\n",
       "Indicator Code     object\n",
       "1960              float64\n",
       "                   ...   \n",
       "2016              float64\n",
       "2017              float64\n",
       "2018              float64\n",
       "2019              float64\n",
       "Unnamed: 64       float64\n",
       "Length: 65, dtype: object"
      ]
     },
     "execution_count": 185,
     "metadata": {},
     "output_type": "execute_result"
    }
   ],
   "source": [
    "print(world_population.columns)\n",
    "world_population.dtypes"
   ]
  },
  {
   "cell_type": "code",
   "execution_count": 186,
   "metadata": {},
   "outputs": [
    {
     "name": "stdout",
     "output_type": "stream",
     "text": [
      "Index(['Country', 'Cases', 'Deaths', 'Continent'], dtype='object')\n",
      "Country      object\n",
      "Cases         int64\n",
      "Deaths        int64\n",
      "Continent    object\n",
      "dtype: object\n"
     ]
    }
   ],
   "source": [
    "print(cases.columns)\n",
    "print(cases.dtypes)"
   ]
  },
  {
   "cell_type": "code",
   "execution_count": 187,
   "metadata": {},
   "outputs": [],
   "source": [
    "world_population.loc[world_population[\"Country Code\"] == \"RUS\", \\\n",
    "                     \"Country Name\"]=\"Russia\""
   ]
  },
  {
   "cell_type": "code",
   "execution_count": 188,
   "metadata": {},
   "outputs": [],
   "source": [
    "world_population.loc[world_population[\"Country Code\"] == \"KOR\", \\\n",
    "                     \"Country Name\"]=\"South Korea\""
   ]
  },
  {
   "cell_type": "code",
   "execution_count": 189,
   "metadata": {},
   "outputs": [],
   "source": [
    "world_population.loc[world_population[\"Country Code\"] == \"HKG\", \\\n",
    "                     \"Country Name\"]=\"Hong Kong\""
   ]
  },
  {
   "cell_type": "code",
   "execution_count": 190,
   "metadata": {},
   "outputs": [],
   "source": [
    "m = pd.merge(cases, world_population[[\"Country Name\",\"2018\"]], how='left', left_on=['Country'], \\\n",
    "             right_on=['Country Name'])"
   ]
  },
  {
   "cell_type": "code",
   "execution_count": 191,
   "metadata": {},
   "outputs": [],
   "source": [
    "m = m.rename(columns={\"2018\": \"Population\"})"
   ]
  },
  {
   "cell_type": "code",
   "execution_count": 192,
   "metadata": {},
   "outputs": [
    {
     "data": {
      "text/html": [
       "<div>\n",
       "<style scoped>\n",
       "    .dataframe tbody tr th:only-of-type {\n",
       "        vertical-align: middle;\n",
       "    }\n",
       "\n",
       "    .dataframe tbody tr th {\n",
       "        vertical-align: top;\n",
       "    }\n",
       "\n",
       "    .dataframe thead th {\n",
       "        text-align: right;\n",
       "    }\n",
       "</style>\n",
       "<table border=\"1\" class=\"dataframe\">\n",
       "  <thead>\n",
       "    <tr style=\"text-align: right;\">\n",
       "      <th></th>\n",
       "      <th>Country</th>\n",
       "      <th>Cases</th>\n",
       "      <th>Deaths</th>\n",
       "      <th>Continent</th>\n",
       "      <th>Country Name</th>\n",
       "      <th>Population</th>\n",
       "    </tr>\n",
       "  </thead>\n",
       "  <tbody>\n",
       "    <tr>\n",
       "      <td>0</td>\n",
       "      <td>Japan</td>\n",
       "      <td>45</td>\n",
       "      <td>0</td>\n",
       "      <td>Asia</td>\n",
       "      <td>Japan</td>\n",
       "      <td>1.265291e+08</td>\n",
       "    </tr>\n",
       "    <tr>\n",
       "      <td>1</td>\n",
       "      <td>Singapore</td>\n",
       "      <td>28</td>\n",
       "      <td>0</td>\n",
       "      <td>Asia</td>\n",
       "      <td>Singapore</td>\n",
       "      <td>5.638676e+06</td>\n",
       "    </tr>\n",
       "    <tr>\n",
       "      <td>2</td>\n",
       "      <td>Thailand</td>\n",
       "      <td>25</td>\n",
       "      <td>0</td>\n",
       "      <td>Asia</td>\n",
       "      <td>Thailand</td>\n",
       "      <td>6.942852e+07</td>\n",
       "    </tr>\n",
       "    <tr>\n",
       "      <td>3</td>\n",
       "      <td>South Korea</td>\n",
       "      <td>23</td>\n",
       "      <td>0</td>\n",
       "      <td>Asia</td>\n",
       "      <td>South Korea</td>\n",
       "      <td>5.163526e+07</td>\n",
       "    </tr>\n",
       "    <tr>\n",
       "      <td>4</td>\n",
       "      <td>Hong Kong</td>\n",
       "      <td>22</td>\n",
       "      <td>1</td>\n",
       "      <td>Asia</td>\n",
       "      <td>Hong Kong</td>\n",
       "      <td>7.451000e+06</td>\n",
       "    </tr>\n",
       "    <tr>\n",
       "      <td>5</td>\n",
       "      <td>Australia</td>\n",
       "      <td>15</td>\n",
       "      <td>0</td>\n",
       "      <td>Australia/Oceania</td>\n",
       "      <td>Australia</td>\n",
       "      <td>2.499237e+07</td>\n",
       "    </tr>\n",
       "    <tr>\n",
       "      <td>6</td>\n",
       "      <td>Malaysia</td>\n",
       "      <td>14</td>\n",
       "      <td>0</td>\n",
       "      <td>Asia</td>\n",
       "      <td>Malaysia</td>\n",
       "      <td>3.152858e+07</td>\n",
       "    </tr>\n",
       "    <tr>\n",
       "      <td>7</td>\n",
       "      <td>Taiwan</td>\n",
       "      <td>13</td>\n",
       "      <td>0</td>\n",
       "      <td>Asia</td>\n",
       "      <td>Taiwan</td>\n",
       "      <td>2.378045e+07</td>\n",
       "    </tr>\n",
       "    <tr>\n",
       "      <td>8</td>\n",
       "      <td>United States</td>\n",
       "      <td>12</td>\n",
       "      <td>0</td>\n",
       "      <td>North America</td>\n",
       "      <td>United States</td>\n",
       "      <td>3.271674e+08</td>\n",
       "    </tr>\n",
       "    <tr>\n",
       "      <td>9</td>\n",
       "      <td>Germany</td>\n",
       "      <td>12</td>\n",
       "      <td>0</td>\n",
       "      <td>Europe</td>\n",
       "      <td>Germany</td>\n",
       "      <td>8.292792e+07</td>\n",
       "    </tr>\n",
       "    <tr>\n",
       "      <td>10</td>\n",
       "      <td>Vietnam</td>\n",
       "      <td>10</td>\n",
       "      <td>0</td>\n",
       "      <td>Asia</td>\n",
       "      <td>Vietnam</td>\n",
       "      <td>9.554040e+07</td>\n",
       "    </tr>\n",
       "    <tr>\n",
       "      <td>11</td>\n",
       "      <td>France</td>\n",
       "      <td>6</td>\n",
       "      <td>0</td>\n",
       "      <td>Europe</td>\n",
       "      <td>France</td>\n",
       "      <td>6.698724e+07</td>\n",
       "    </tr>\n",
       "    <tr>\n",
       "      <td>12</td>\n",
       "      <td>Canada</td>\n",
       "      <td>5</td>\n",
       "      <td>0</td>\n",
       "      <td>North America</td>\n",
       "      <td>Canada</td>\n",
       "      <td>3.705886e+07</td>\n",
       "    </tr>\n",
       "    <tr>\n",
       "      <td>13</td>\n",
       "      <td>United Arab Emirates</td>\n",
       "      <td>5</td>\n",
       "      <td>0</td>\n",
       "      <td>Asia</td>\n",
       "      <td>United Arab Emirates</td>\n",
       "      <td>9.630959e+06</td>\n",
       "    </tr>\n",
       "    <tr>\n",
       "      <td>14</td>\n",
       "      <td>Philippines</td>\n",
       "      <td>3</td>\n",
       "      <td>1</td>\n",
       "      <td>Asia</td>\n",
       "      <td>Philippines</td>\n",
       "      <td>1.066519e+08</td>\n",
       "    </tr>\n",
       "    <tr>\n",
       "      <td>15</td>\n",
       "      <td>India</td>\n",
       "      <td>3</td>\n",
       "      <td>0</td>\n",
       "      <td>Asia</td>\n",
       "      <td>India</td>\n",
       "      <td>1.352617e+09</td>\n",
       "    </tr>\n",
       "    <tr>\n",
       "      <td>16</td>\n",
       "      <td>United Kingdom</td>\n",
       "      <td>2</td>\n",
       "      <td>0</td>\n",
       "      <td>Europe</td>\n",
       "      <td>United Kingdom</td>\n",
       "      <td>6.648899e+07</td>\n",
       "    </tr>\n",
       "    <tr>\n",
       "      <td>17</td>\n",
       "      <td>Russia</td>\n",
       "      <td>2</td>\n",
       "      <td>0</td>\n",
       "      <td>Europe</td>\n",
       "      <td>Russia</td>\n",
       "      <td>1.444780e+08</td>\n",
       "    </tr>\n",
       "    <tr>\n",
       "      <td>18</td>\n",
       "      <td>Italy</td>\n",
       "      <td>2</td>\n",
       "      <td>0</td>\n",
       "      <td>Europe</td>\n",
       "      <td>Italy</td>\n",
       "      <td>6.043128e+07</td>\n",
       "    </tr>\n",
       "  </tbody>\n",
       "</table>\n",
       "</div>"
      ],
      "text/plain": [
       "                 Country  Cases  Deaths          Continent  \\\n",
       "0                  Japan     45       0               Asia   \n",
       "1              Singapore     28       0               Asia   \n",
       "2               Thailand     25       0               Asia   \n",
       "3            South Korea     23       0               Asia   \n",
       "4              Hong Kong     22       1               Asia   \n",
       "5              Australia     15       0  Australia/Oceania   \n",
       "6               Malaysia     14       0               Asia   \n",
       "7                 Taiwan     13       0               Asia   \n",
       "8          United States     12       0      North America   \n",
       "9                Germany     12       0             Europe   \n",
       "10               Vietnam     10       0               Asia   \n",
       "11                France      6       0             Europe   \n",
       "12                Canada      5       0      North America   \n",
       "13  United Arab Emirates      5       0               Asia   \n",
       "14           Philippines      3       1               Asia   \n",
       "15                 India      3       0               Asia   \n",
       "16        United Kingdom      2       0             Europe   \n",
       "17                Russia      2       0             Europe   \n",
       "18                 Italy      2       0             Europe   \n",
       "\n",
       "            Country Name    Population  \n",
       "0                  Japan  1.265291e+08  \n",
       "1              Singapore  5.638676e+06  \n",
       "2               Thailand  6.942852e+07  \n",
       "3            South Korea  5.163526e+07  \n",
       "4              Hong Kong  7.451000e+06  \n",
       "5              Australia  2.499237e+07  \n",
       "6               Malaysia  3.152858e+07  \n",
       "7                 Taiwan  2.378045e+07  \n",
       "8          United States  3.271674e+08  \n",
       "9                Germany  8.292792e+07  \n",
       "10               Vietnam  9.554040e+07  \n",
       "11                France  6.698724e+07  \n",
       "12                Canada  3.705886e+07  \n",
       "13  United Arab Emirates  9.630959e+06  \n",
       "14           Philippines  1.066519e+08  \n",
       "15                 India  1.352617e+09  \n",
       "16        United Kingdom  6.648899e+07  \n",
       "17                Russia  1.444780e+08  \n",
       "18                 Italy  6.043128e+07  "
      ]
     },
     "execution_count": 192,
     "metadata": {},
     "output_type": "execute_result"
    }
   ],
   "source": [
    "m"
   ]
  },
  {
   "cell_type": "code",
   "execution_count": 193,
   "metadata": {},
   "outputs": [],
   "source": [
    "per_capita = pd.concat([m[\"Country\"], m[\"Cases\"]/m[\"Population\"]], \\\n",
    "                       axis=1, keys=[\"Country\", \"Cases per capita\"])"
   ]
  },
  {
   "cell_type": "code",
   "execution_count": 194,
   "metadata": {},
   "outputs": [],
   "source": [
    "pcs = per_capita.sort_values(\"Cases per capita\", ascending=True)"
   ]
  },
  {
   "cell_type": "code",
   "execution_count": 195,
   "metadata": {},
   "outputs": [
    {
     "data": {
      "text/plain": [
       "<BarContainer object of 19 artists>"
      ]
     },
     "execution_count": 195,
     "metadata": {},
     "output_type": "execute_result"
    },
    {
     "data": {
      "image/png": "[encoded data removed]",
      "text/plain": [
       "<Figure size 720x720 with 1 Axes>"
      ]
     },
     "metadata": {},
     "output_type": "display_data"
    }
   ],
   "source": [
    "plt.figure(figsize=(10,10))\n",
    "plt.title(\"Per-capita incidence of infection\")\n",
    "plt.barh(pcs[\"Country\"], pcs[\"Cases per capita\"])"
   ]
  },
  {
   "cell_type": "markdown",
   "metadata": {},
   "source": [
    "### Infections per square mile"
   ]
  },
  {
   "cell_type": "code",
   "execution_count": 196,
   "metadata": {},
   "outputs": [],
   "source": [
    "countries = pd.read_csv(\"countries_ex.csv\", decimal=\",\")"
   ]
  },
  {
   "cell_type": "code",
   "execution_count": 197,
   "metadata": {},
   "outputs": [
    {
     "data": {
      "text/plain": [
       "Index(['Country', 'Region', 'Population', 'Area (sq. mi.)',\n",
       "       'Pop. Density (per sq. mi.)', 'Coastline (coast/area ratio)',\n",
       "       'Net migration', 'Infant mortality (per 1000 births)',\n",
       "       'GDP ($ per capita)', 'Literacy (%)', 'Phones (per 1000)', 'Arable (%)',\n",
       "       'Crops (%)', 'Other (%)', 'Climate', 'Birthrate', 'Deathrate',\n",
       "       'Agriculture', 'Industry', 'Service'],\n",
       "      dtype='object')"
      ]
     },
     "execution_count": 197,
     "metadata": {},
     "output_type": "execute_result"
    }
   ],
   "source": [
    "countries.columns"
   ]
  },
  {
   "cell_type": "code",
   "execution_count": 198,
   "metadata": {},
   "outputs": [
    {
     "data": {
      "text/plain": [
       "Country                                object\n",
       "Region                                 object\n",
       "Population                              int64\n",
       "Area (sq. mi.)                          int64\n",
       "Pop. Density (per sq. mi.)            float64\n",
       "Coastline (coast/area ratio)          float64\n",
       "Net migration                         float64\n",
       "Infant mortality (per 1000 births)    float64\n",
       "GDP ($ per capita)                    float64\n",
       "Literacy (%)                          float64\n",
       "Phones (per 1000)                     float64\n",
       "Arable (%)                            float64\n",
       "Crops (%)                             float64\n",
       "Other (%)                             float64\n",
       "Climate                               float64\n",
       "Birthrate                             float64\n",
       "Deathrate                             float64\n",
       "Agriculture                           float64\n",
       "Industry                              float64\n",
       "Service                               float64\n",
       "dtype: object"
      ]
     },
     "execution_count": 198,
     "metadata": {},
     "output_type": "execute_result"
    }
   ],
   "source": [
    "countries.dtypes"
   ]
  },
  {
   "cell_type": "code",
   "execution_count": 199,
   "metadata": {},
   "outputs": [],
   "source": [
    "countries.loc[countries[\"Country\"] == \"Korea, South\", \\\n",
    "                     \"Country\"]=\"South Korea\""
   ]
  },
  {
   "cell_type": "code",
   "execution_count": 200,
   "metadata": {},
   "outputs": [],
   "source": [
    "m2 = pd.merge(cases, countries[[\"Country\",\"Area (sq. mi.)\"]], how='left', left_on=['Country'], \\\n",
    "             right_on=['Country'])"
   ]
  },
  {
   "cell_type": "code",
   "execution_count": 201,
   "metadata": {},
   "outputs": [
    {
     "data": {
      "text/html": [
       "<div>\n",
       "<style scoped>\n",
       "    .dataframe tbody tr th:only-of-type {\n",
       "        vertical-align: middle;\n",
       "    }\n",
       "\n",
       "    .dataframe tbody tr th {\n",
       "        vertical-align: top;\n",
       "    }\n",
       "\n",
       "    .dataframe thead th {\n",
       "        text-align: right;\n",
       "    }\n",
       "</style>\n",
       "<table border=\"1\" class=\"dataframe\">\n",
       "  <thead>\n",
       "    <tr style=\"text-align: right;\">\n",
       "      <th></th>\n",
       "      <th>Country</th>\n",
       "      <th>Cases</th>\n",
       "      <th>Deaths</th>\n",
       "      <th>Continent</th>\n",
       "      <th>Area (sq. mi.)</th>\n",
       "    </tr>\n",
       "  </thead>\n",
       "  <tbody>\n",
       "    <tr>\n",
       "      <td>0</td>\n",
       "      <td>Japan</td>\n",
       "      <td>45</td>\n",
       "      <td>0</td>\n",
       "      <td>Asia</td>\n",
       "      <td>377835</td>\n",
       "    </tr>\n",
       "    <tr>\n",
       "      <td>1</td>\n",
       "      <td>Singapore</td>\n",
       "      <td>28</td>\n",
       "      <td>0</td>\n",
       "      <td>Asia</td>\n",
       "      <td>693</td>\n",
       "    </tr>\n",
       "    <tr>\n",
       "      <td>2</td>\n",
       "      <td>Thailand</td>\n",
       "      <td>25</td>\n",
       "      <td>0</td>\n",
       "      <td>Asia</td>\n",
       "      <td>514000</td>\n",
       "    </tr>\n",
       "    <tr>\n",
       "      <td>3</td>\n",
       "      <td>South Korea</td>\n",
       "      <td>23</td>\n",
       "      <td>0</td>\n",
       "      <td>Asia</td>\n",
       "      <td>98480</td>\n",
       "    </tr>\n",
       "    <tr>\n",
       "      <td>4</td>\n",
       "      <td>Hong Kong</td>\n",
       "      <td>22</td>\n",
       "      <td>1</td>\n",
       "      <td>Asia</td>\n",
       "      <td>1092</td>\n",
       "    </tr>\n",
       "    <tr>\n",
       "      <td>5</td>\n",
       "      <td>Australia</td>\n",
       "      <td>15</td>\n",
       "      <td>0</td>\n",
       "      <td>Australia/Oceania</td>\n",
       "      <td>7686850</td>\n",
       "    </tr>\n",
       "    <tr>\n",
       "      <td>6</td>\n",
       "      <td>Malaysia</td>\n",
       "      <td>14</td>\n",
       "      <td>0</td>\n",
       "      <td>Asia</td>\n",
       "      <td>329750</td>\n",
       "    </tr>\n",
       "    <tr>\n",
       "      <td>7</td>\n",
       "      <td>Taiwan</td>\n",
       "      <td>13</td>\n",
       "      <td>0</td>\n",
       "      <td>Asia</td>\n",
       "      <td>35980</td>\n",
       "    </tr>\n",
       "    <tr>\n",
       "      <td>8</td>\n",
       "      <td>United States</td>\n",
       "      <td>12</td>\n",
       "      <td>0</td>\n",
       "      <td>North America</td>\n",
       "      <td>9631420</td>\n",
       "    </tr>\n",
       "    <tr>\n",
       "      <td>9</td>\n",
       "      <td>Germany</td>\n",
       "      <td>12</td>\n",
       "      <td>0</td>\n",
       "      <td>Europe</td>\n",
       "      <td>357021</td>\n",
       "    </tr>\n",
       "    <tr>\n",
       "      <td>10</td>\n",
       "      <td>Vietnam</td>\n",
       "      <td>10</td>\n",
       "      <td>0</td>\n",
       "      <td>Asia</td>\n",
       "      <td>329560</td>\n",
       "    </tr>\n",
       "    <tr>\n",
       "      <td>11</td>\n",
       "      <td>France</td>\n",
       "      <td>6</td>\n",
       "      <td>0</td>\n",
       "      <td>Europe</td>\n",
       "      <td>547030</td>\n",
       "    </tr>\n",
       "    <tr>\n",
       "      <td>12</td>\n",
       "      <td>Canada</td>\n",
       "      <td>5</td>\n",
       "      <td>0</td>\n",
       "      <td>North America</td>\n",
       "      <td>9984670</td>\n",
       "    </tr>\n",
       "    <tr>\n",
       "      <td>13</td>\n",
       "      <td>United Arab Emirates</td>\n",
       "      <td>5</td>\n",
       "      <td>0</td>\n",
       "      <td>Asia</td>\n",
       "      <td>82880</td>\n",
       "    </tr>\n",
       "    <tr>\n",
       "      <td>14</td>\n",
       "      <td>Philippines</td>\n",
       "      <td>3</td>\n",
       "      <td>1</td>\n",
       "      <td>Asia</td>\n",
       "      <td>300000</td>\n",
       "    </tr>\n",
       "    <tr>\n",
       "      <td>15</td>\n",
       "      <td>India</td>\n",
       "      <td>3</td>\n",
       "      <td>0</td>\n",
       "      <td>Asia</td>\n",
       "      <td>3287590</td>\n",
       "    </tr>\n",
       "    <tr>\n",
       "      <td>16</td>\n",
       "      <td>United Kingdom</td>\n",
       "      <td>2</td>\n",
       "      <td>0</td>\n",
       "      <td>Europe</td>\n",
       "      <td>244820</td>\n",
       "    </tr>\n",
       "    <tr>\n",
       "      <td>17</td>\n",
       "      <td>Russia</td>\n",
       "      <td>2</td>\n",
       "      <td>0</td>\n",
       "      <td>Europe</td>\n",
       "      <td>17075200</td>\n",
       "    </tr>\n",
       "    <tr>\n",
       "      <td>18</td>\n",
       "      <td>Italy</td>\n",
       "      <td>2</td>\n",
       "      <td>0</td>\n",
       "      <td>Europe</td>\n",
       "      <td>301230</td>\n",
       "    </tr>\n",
       "  </tbody>\n",
       "</table>\n",
       "</div>"
      ],
      "text/plain": [
       "                 Country  Cases  Deaths          Continent  Area (sq. mi.)\n",
       "0                  Japan     45       0               Asia          377835\n",
       "1              Singapore     28       0               Asia             693\n",
       "2               Thailand     25       0               Asia          514000\n",
       "3            South Korea     23       0               Asia           98480\n",
       "4              Hong Kong     22       1               Asia            1092\n",
       "5              Australia     15       0  Australia/Oceania         7686850\n",
       "6               Malaysia     14       0               Asia          329750\n",
       "7                 Taiwan     13       0               Asia           35980\n",
       "8          United States     12       0      North America         9631420\n",
       "9                Germany     12       0             Europe          357021\n",
       "10               Vietnam     10       0               Asia          329560\n",
       "11                France      6       0             Europe          547030\n",
       "12                Canada      5       0      North America         9984670\n",
       "13  United Arab Emirates      5       0               Asia           82880\n",
       "14           Philippines      3       1               Asia          300000\n",
       "15                 India      3       0               Asia         3287590\n",
       "16        United Kingdom      2       0             Europe          244820\n",
       "17                Russia      2       0             Europe        17075200\n",
       "18                 Italy      2       0             Europe          301230"
      ]
     },
     "execution_count": 201,
     "metadata": {},
     "output_type": "execute_result"
    }
   ],
   "source": [
    "m2"
   ]
  },
  {
   "cell_type": "code",
   "execution_count": 202,
   "metadata": {},
   "outputs": [],
   "source": [
    "per_sq_mi = pd.concat([m2[\"Country\"], m2[\"Cases\"]/m2[\"Area (sq. mi.)\"]], \\\n",
    "                       axis=1, keys=[\"Country\", \"Cases per sq. mi\"])"
   ]
  },
  {
   "cell_type": "code",
   "execution_count": 203,
   "metadata": {},
   "outputs": [],
   "source": [
    "psm = per_sq_mi.sort_values(\"Cases per sq. mi\", ascending=True)"
   ]
  },
  {
   "cell_type": "code",
   "execution_count": 204,
   "metadata": {},
   "outputs": [
    {
     "data": {
      "text/plain": [
       "<BarContainer object of 19 artists>"
      ]
     },
     "execution_count": 204,
     "metadata": {},
     "output_type": "execute_result"
    },
    {
     "data": {
      "image/png": "[encoded data removed]",
      "text/plain": [
       "<Figure size 720x720 with 1 Axes>"
      ]
     },
     "metadata": {},
     "output_type": "display_data"
    }
   ],
   "source": [
    "plt.figure(figsize=(10,10))\n",
    "plt.title(\"Per-square-mile incidence of infection\")\n",
    "plt.barh(psm[\"Country\"], psm[\"Cases per sq. mi\"])"
   ]
  },
  {
   "cell_type": "markdown",
   "metadata": {},
   "source": [
    "### Correlation between population density and incidence of infection"
   ]
  },
  {
   "cell_type": "code",
   "execution_count": 205,
   "metadata": {},
   "outputs": [],
   "source": [
    "m3 = pd.merge(cases, countries[[\"Country\",\"Pop. Density (per sq. mi.)\"]], how='left', left_on=['Country'], \\\n",
    "             right_on=['Country'])"
   ]
  },
  {
   "cell_type": "code",
   "execution_count": 206,
   "metadata": {},
   "outputs": [
    {
     "data": {
      "text/html": [
       "<div>\n",
       "<style scoped>\n",
       "    .dataframe tbody tr th:only-of-type {\n",
       "        vertical-align: middle;\n",
       "    }\n",
       "\n",
       "    .dataframe tbody tr th {\n",
       "        vertical-align: top;\n",
       "    }\n",
       "\n",
       "    .dataframe thead th {\n",
       "        text-align: right;\n",
       "    }\n",
       "</style>\n",
       "<table border=\"1\" class=\"dataframe\">\n",
       "  <thead>\n",
       "    <tr style=\"text-align: right;\">\n",
       "      <th></th>\n",
       "      <th>Country</th>\n",
       "      <th>Cases</th>\n",
       "      <th>Deaths</th>\n",
       "      <th>Continent</th>\n",
       "      <th>Pop. Density (per sq. mi.)</th>\n",
       "    </tr>\n",
       "  </thead>\n",
       "  <tbody>\n",
       "    <tr>\n",
       "      <td>0</td>\n",
       "      <td>Japan</td>\n",
       "      <td>45</td>\n",
       "      <td>0</td>\n",
       "      <td>Asia</td>\n",
       "      <td>337.4</td>\n",
       "    </tr>\n",
       "    <tr>\n",
       "      <td>1</td>\n",
       "      <td>Singapore</td>\n",
       "      <td>28</td>\n",
       "      <td>0</td>\n",
       "      <td>Asia</td>\n",
       "      <td>6482.2</td>\n",
       "    </tr>\n",
       "    <tr>\n",
       "      <td>2</td>\n",
       "      <td>Thailand</td>\n",
       "      <td>25</td>\n",
       "      <td>0</td>\n",
       "      <td>Asia</td>\n",
       "      <td>125.7</td>\n",
       "    </tr>\n",
       "    <tr>\n",
       "      <td>3</td>\n",
       "      <td>South Korea</td>\n",
       "      <td>23</td>\n",
       "      <td>0</td>\n",
       "      <td>Asia</td>\n",
       "      <td>496.0</td>\n",
       "    </tr>\n",
       "    <tr>\n",
       "      <td>4</td>\n",
       "      <td>Hong Kong</td>\n",
       "      <td>22</td>\n",
       "      <td>1</td>\n",
       "      <td>Asia</td>\n",
       "      <td>6355.7</td>\n",
       "    </tr>\n",
       "    <tr>\n",
       "      <td>5</td>\n",
       "      <td>Australia</td>\n",
       "      <td>15</td>\n",
       "      <td>0</td>\n",
       "      <td>Australia/Oceania</td>\n",
       "      <td>2.6</td>\n",
       "    </tr>\n",
       "    <tr>\n",
       "      <td>6</td>\n",
       "      <td>Malaysia</td>\n",
       "      <td>14</td>\n",
       "      <td>0</td>\n",
       "      <td>Asia</td>\n",
       "      <td>74.0</td>\n",
       "    </tr>\n",
       "    <tr>\n",
       "      <td>7</td>\n",
       "      <td>Taiwan</td>\n",
       "      <td>13</td>\n",
       "      <td>0</td>\n",
       "      <td>Asia</td>\n",
       "      <td>640.3</td>\n",
       "    </tr>\n",
       "    <tr>\n",
       "      <td>8</td>\n",
       "      <td>United States</td>\n",
       "      <td>12</td>\n",
       "      <td>0</td>\n",
       "      <td>North America</td>\n",
       "      <td>31.0</td>\n",
       "    </tr>\n",
       "    <tr>\n",
       "      <td>9</td>\n",
       "      <td>Germany</td>\n",
       "      <td>12</td>\n",
       "      <td>0</td>\n",
       "      <td>Europe</td>\n",
       "      <td>230.9</td>\n",
       "    </tr>\n",
       "    <tr>\n",
       "      <td>10</td>\n",
       "      <td>Vietnam</td>\n",
       "      <td>10</td>\n",
       "      <td>0</td>\n",
       "      <td>Asia</td>\n",
       "      <td>256.1</td>\n",
       "    </tr>\n",
       "    <tr>\n",
       "      <td>11</td>\n",
       "      <td>France</td>\n",
       "      <td>6</td>\n",
       "      <td>0</td>\n",
       "      <td>Europe</td>\n",
       "      <td>111.3</td>\n",
       "    </tr>\n",
       "    <tr>\n",
       "      <td>12</td>\n",
       "      <td>Canada</td>\n",
       "      <td>5</td>\n",
       "      <td>0</td>\n",
       "      <td>North America</td>\n",
       "      <td>3.3</td>\n",
       "    </tr>\n",
       "    <tr>\n",
       "      <td>13</td>\n",
       "      <td>United Arab Emirates</td>\n",
       "      <td>5</td>\n",
       "      <td>0</td>\n",
       "      <td>Asia</td>\n",
       "      <td>31.4</td>\n",
       "    </tr>\n",
       "    <tr>\n",
       "      <td>14</td>\n",
       "      <td>Philippines</td>\n",
       "      <td>3</td>\n",
       "      <td>1</td>\n",
       "      <td>Asia</td>\n",
       "      <td>298.2</td>\n",
       "    </tr>\n",
       "    <tr>\n",
       "      <td>15</td>\n",
       "      <td>India</td>\n",
       "      <td>3</td>\n",
       "      <td>0</td>\n",
       "      <td>Asia</td>\n",
       "      <td>333.2</td>\n",
       "    </tr>\n",
       "    <tr>\n",
       "      <td>16</td>\n",
       "      <td>United Kingdom</td>\n",
       "      <td>2</td>\n",
       "      <td>0</td>\n",
       "      <td>Europe</td>\n",
       "      <td>247.6</td>\n",
       "    </tr>\n",
       "    <tr>\n",
       "      <td>17</td>\n",
       "      <td>Russia</td>\n",
       "      <td>2</td>\n",
       "      <td>0</td>\n",
       "      <td>Europe</td>\n",
       "      <td>8.4</td>\n",
       "    </tr>\n",
       "    <tr>\n",
       "      <td>18</td>\n",
       "      <td>Italy</td>\n",
       "      <td>2</td>\n",
       "      <td>0</td>\n",
       "      <td>Europe</td>\n",
       "      <td>193.0</td>\n",
       "    </tr>\n",
       "  </tbody>\n",
       "</table>\n",
       "</div>"
      ],
      "text/plain": [
       "                 Country  Cases  Deaths          Continent  \\\n",
       "0                  Japan     45       0               Asia   \n",
       "1              Singapore     28       0               Asia   \n",
       "2               Thailand     25       0               Asia   \n",
       "3            South Korea     23       0               Asia   \n",
       "4              Hong Kong     22       1               Asia   \n",
       "5              Australia     15       0  Australia/Oceania   \n",
       "6               Malaysia     14       0               Asia   \n",
       "7                 Taiwan     13       0               Asia   \n",
       "8          United States     12       0      North America   \n",
       "9                Germany     12       0             Europe   \n",
       "10               Vietnam     10       0               Asia   \n",
       "11                France      6       0             Europe   \n",
       "12                Canada      5       0      North America   \n",
       "13  United Arab Emirates      5       0               Asia   \n",
       "14           Philippines      3       1               Asia   \n",
       "15                 India      3       0               Asia   \n",
       "16        United Kingdom      2       0             Europe   \n",
       "17                Russia      2       0             Europe   \n",
       "18                 Italy      2       0             Europe   \n",
       "\n",
       "    Pop. Density (per sq. mi.)  \n",
       "0                        337.4  \n",
       "1                       6482.2  \n",
       "2                        125.7  \n",
       "3                        496.0  \n",
       "4                       6355.7  \n",
       "5                          2.6  \n",
       "6                         74.0  \n",
       "7                        640.3  \n",
       "8                         31.0  \n",
       "9                        230.9  \n",
       "10                       256.1  \n",
       "11                       111.3  \n",
       "12                         3.3  \n",
       "13                        31.4  \n",
       "14                       298.2  \n",
       "15                       333.2  \n",
       "16                       247.6  \n",
       "17                         8.4  \n",
       "18                       193.0  "
      ]
     },
     "execution_count": 206,
     "metadata": {},
     "output_type": "execute_result"
    }
   ],
   "source": [
    "m3"
   ]
  },
  {
   "cell_type": "code",
   "execution_count": 207,
   "metadata": {},
   "outputs": [],
   "source": [
    "m3[\"Pop. Density (per sq. mi.)\"] = m3[\"Pop. Density (per sq. mi.)\"].astype(float)"
   ]
  },
  {
   "cell_type": "code",
   "execution_count": 208,
   "metadata": {},
   "outputs": [],
   "source": [
    "per_pop_dens = pd.concat([m3[\"Country\"], per_capita[\"Cases per capita\"], m3[\"Pop. Density (per sq. mi.)\"]], \\\n",
    "                         axis=1, keys=[\"Country\", \"Cases per capita\", \"Pop. Density (per sq. mi.)\"])"
   ]
  },
  {
   "cell_type": "code",
   "execution_count": 209,
   "metadata": {},
   "outputs": [],
   "source": [
    "y = per_pop_dens[\"Cases per capita\"].values\n",
    "x = per_pop_dens[\"Pop. Density (per sq. mi.)\"].values"
   ]
  },
  {
   "cell_type": "code",
   "execution_count": 210,
   "metadata": {},
   "outputs": [],
   "source": [
    "x.sort()\n",
    "y.sort()\n",
    "import numpy as np\n",
    "x = np.log(x)\n",
    "y = np.log(y)"
   ]
  },
  {
   "cell_type": "code",
   "execution_count": 211,
   "metadata": {},
   "outputs": [
    {
     "data": {
      "text/plain": [
       "<matplotlib.collections.PathCollection at 0x1a1eea3e50>"
      ]
     },
     "execution_count": 211,
     "metadata": {},
     "output_type": "execute_result"
    },
    {
     "data": {
      "image/png": "[encoded data removed]",
      "text/plain": [
       "<Figure size 720x720 with 1 Axes>"
      ]
     },
     "metadata": {},
     "output_type": "display_data"
    }
   ],
   "source": [
    "plt.figure(figsize=(10, 10))\n",
    "plt.title(\"Incidence of infection vs population density\")\n",
    "plt.ylabel(\"Log(Incidence of infection)\")\n",
    "plt.xlabel(\"Log(Population density)\")\n",
    "plt.scatter(x,y)"
   ]
  },
  {
   "cell_type": "markdown",
   "metadata": {},
   "source": [
    "### Population density vs incidence of infection w/ country information"
   ]
  },
  {
   "cell_type": "code",
   "execution_count": 212,
   "metadata": {},
   "outputs": [],
   "source": [
    "m3.sort_values(\"Pop. Density (per sq. mi.)\", inplace=True)"
   ]
  },
  {
   "cell_type": "code",
   "execution_count": 219,
   "metadata": {},
   "outputs": [],
   "source": [
    "c = m3[\"Country\"].values"
   ]
  },
  {
   "cell_type": "code",
   "execution_count": 222,
   "metadata": {},
   "outputs": [
    {
     "data": {
      "text/plain": [
       "<matplotlib.axes._subplots.AxesSubplot at 0x1a1fbb9510>"
      ]
     },
     "execution_count": 222,
     "metadata": {},
     "output_type": "execute_result"
    },
    {
     "data": {
      "image/png": "[encoded data removed]",
      "text/plain": [
       "<Figure size 864x864 with 1 Axes>"
      ]
     },
     "metadata": {},
     "output_type": "display_data"
    }
   ],
   "source": [
    "plt.figure(figsize=(12,12))\n",
    "plt.title(\"Incidence of infection vs population density\")\n",
    "plt.ylabel(\"Log(Incidence of infection)\")\n",
    "plt.xlabel(\"Log(Population density)\")\n",
    "sns.scatterplot(x, y, hue=c, s=200)"
   ]
  },
  {
   "cell_type": "markdown",
   "metadata": {},
   "source": [
    "## Regression"
   ]
  },
  {
   "cell_type": "markdown",
   "metadata": {},
   "source": [
    "### Linear"
   ]
  },
  {
   "cell_type": "code",
   "execution_count": 223,
   "metadata": {},
   "outputs": [],
   "source": [
    "#Reference\n",
    "# import numpy as np\n",
    "# import matplotlib.pyplot as plt\n",
    "\n",
    "# x = [1,2,3,4]\n",
    "# y = [3,5,7,10] # 10, not 9, so the fit isn't perfect\n",
    "\n",
    "# coef = np.polyfit(x,y,1)\n",
    "# poly1d_fn = np.poly1d(coef) \n",
    "# # poly1d_fn is now a function which takes in x and returns an estimate for y\n",
    "\n",
    "# plt.plot(x,y, 'yo', x, poly1d_fn(x), '--k')\n",
    "# plt.xlim(0, 5)\n",
    "# plt.ylim(0, 12)"
   ]
  },
  {
   "cell_type": "code",
   "execution_count": 225,
   "metadata": {},
   "outputs": [],
   "source": [
    "coef = np.polyfit(x,y,1)\n",
    "poly1d_fn = np.poly1d(coef) "
   ]
  },
  {
   "cell_type": "code",
   "execution_count": 230,
   "metadata": {},
   "outputs": [
    {
     "data": {
      "text/plain": [
       "[<matplotlib.lines.Line2D at 0x1a2044ce50>,\n",
       " <matplotlib.lines.Line2D at 0x1a206d1b10>]"
      ]
     },
     "execution_count": 230,
     "metadata": {},
     "output_type": "execute_result"
    },
    {
     "data": {
      "image/png": "[encoded data removed]",
      "text/plain": [
       "<Figure size 864x864 with 1 Axes>"
      ]
     },
     "metadata": {},
     "output_type": "display_data"
    }
   ],
   "source": [
    "plt.figure(figsize=(12,12))\n",
    "plt.title(\"Incidence of infection vs population density\")\n",
    "plt.ylabel(\"Log(Incidence of infection)\")\n",
    "plt.xlabel(\"Log(Population density)\")\n",
    "plt.plot(x,y, 'yo', x, poly1d_fn(x), '--k')"
   ]
  },
  {
   "cell_type": "markdown",
   "metadata": {},
   "source": [
    "### 3rd Degree with confidence intervals"
   ]
  },
  {
   "cell_type": "code",
   "execution_count": 240,
   "metadata": {},
   "outputs": [
    {
     "data": {
      "text/plain": [
       "<matplotlib.axes._subplots.AxesSubplot at 0x1a220c0d90>"
      ]
     },
     "execution_count": 240,
     "metadata": {},
     "output_type": "execute_result"
    },
    {
     "data": {
      "image/png": "[encoded data removed]",
      "text/plain": [
       "<Figure size 864x864 with 1 Axes>"
      ]
     },
     "metadata": {},
     "output_type": "display_data"
    }
   ],
   "source": [
    "plt.figure(figsize=(12,12))\n",
    "plt.title(\"Incidence of infection vs population density\")\n",
    "plt.ylabel(\"Log(Incidence of infection)\")\n",
    "plt.xlabel(\"Log(Population density)\")\n",
    "sns.regplot(x, y, order=2, x_ci=\"c1\")"
   ]
  },
  {
   "cell_type": "code",
   "execution_count": null,
   "metadata": {},
   "outputs": [],
   "source": []
  }
 ],
 "metadata": {
  "kernelspec": {
   "display_name": "Python 3",
   "language": "python",
   "name": "python3"
  },
  "language_info": {
   "codemirror_mode": {
    "name": "ipython",
    "version": 3
   },
   "file_extension": ".py",
   "mimetype": "text/x-python",
   "name": "python",
   "nbconvert_exporter": "python",
   "pygments_lexer": "ipython3",
   "version": "3.7.4"
  }
 },
 "nbformat": 4,
 "nbformat_minor": 2
}
